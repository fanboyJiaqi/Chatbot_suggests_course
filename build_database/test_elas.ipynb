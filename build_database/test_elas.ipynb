{
 "cells": [
  {
   "cell_type": "code",
   "execution_count": 6,
   "metadata": {},
   "outputs": [
    {
     "name": "stderr",
     "output_type": "stream",
     "text": [
      "c:\\Users\\Admin\\Documents\\F_GPT_Demo\\venv\\lib\\site-packages\\langchain_core\\_api\\deprecation.py:139: LangChainDeprecationWarning: The class `HuggingFaceEmbeddings` was deprecated in LangChain 0.2.2 and will be removed in 0.3.0. An updated version of the class exists in the langchain-huggingface package and should be used instead. To use it run `pip install -U langchain-huggingface` and import as `from langchain_huggingface import HuggingFaceEmbeddings`.\n",
      "  warn_deprecated(\n",
      "C:\\Users\\Admin\\AppData\\Local\\Temp\\ipykernel_23304\\558707282.py:14: DeprecationWarning: The 'http_auth' parameter is deprecated. Use 'basic_auth' or 'bearer_auth' parameters instead\n",
      "  es_client = elasticsearch.Elasticsearch(\n"
     ]
    },
    {
     "name": "stdout",
     "output_type": "stream",
     "text": [
      "[Document(metadata={'source': 'C:\\\\Users\\\\Admin\\\\Documents\\\\F_GPT_Demo\\\\build_database\\\\state_of_the_union.txt'}, page_content='One of the most serious constitutional responsibilities a President has is nominating someone to serve on the United States Supreme Court. \\n\\nAnd I did that 4 days ago, when I nominated Circuit Court of Appeals Judge Ketanji Brown Jackson. One of our nation’s top legal minds, who will continue Justice Breyer’s legacy of excellence.'), Document(metadata={'source': 'C:\\\\Users\\\\Admin\\\\Documents\\\\F_GPT_Demo\\\\build_database\\\\state_of_the_union.txt'}, page_content='As I said last year, especially to our younger transgender Americans, I will always have your back as your President, so you can be yourself and reach your God-given potential. \\n\\nWhile it often appears that we never agree, that isn’t true. I signed 80 bipartisan bills into law last year. From preventing government shutdowns to protecting Asian-Americans from still-too-common hate crimes to reforming military justice.'), Document(metadata={'source': 'C:\\\\Users\\\\Admin\\\\Documents\\\\F_GPT_Demo\\\\build_database\\\\state_of_the_union.txt'}, page_content='Tonight. I call on the Senate to: Pass the Freedom to Vote Act. Pass the John Lewis Voting Rights Act. And while you’re at it, pass the Disclose Act so Americans can know who is funding our elections. \\n\\nTonight, I’d like to honor someone who has dedicated his life to serve this country: Justice Stephen Breyer—an Army veteran, Constitutional scholar, and retiring Justice of the United States Supreme Court. Justice Breyer, thank you for your service.'), Document(metadata={'source': 'C:\\\\Users\\\\Admin\\\\Documents\\\\F_GPT_Demo\\\\build_database\\\\state_of_the_union.txt'}, page_content='We don’t know for sure if a burn pit was the cause of his brain cancer, or the diseases of so many of our troops. \\n\\nBut I’m committed to finding out everything we can. \\n\\nCommitted to military families like Danielle Robinson from Ohio. \\n\\nThe widow of Sergeant First Class Heath Robinson.  \\n\\nHe was born a soldier. Army National Guard. Combat medic in Kosovo and Iraq. \\n\\nStationed near Baghdad, just yards from burn pits the size of football fields.')]\n"
     ]
    }
   ],
   "source": [
    "import elasticsearch\n",
    "from langchain_elasticsearch import ElasticsearchStore\n",
    "from langchain.schema import Document\n",
    "# from sentence_transformers import SentenceTransformer\n",
    "\n",
    "from langchain_community.embeddings.sentence_transformer import (\n",
    "    SentenceTransformerEmbeddings,\n",
    ")\n",
    "\n",
    "# Tạo mô hình embedding\n",
    "embedding_function = SentenceTransformerEmbeddings(model_name=\"all-MiniLM-L6-v2\")\n",
    "\n",
    "# Kết nối đến Elasticsearch\n",
    "es_client = elasticsearch.Elasticsearch(\n",
    "    hosts=[\"http://localhost:9200\"],\n",
    "    http_auth=(\"phuongln10\", \"gptllm\"),  # Sử dụng http_auth để cung cấp thông tin đăng nhập\n",
    "    max_retries=10\n",
    ")\n",
    "\n",
    "# Kết nối đến Elasticsearch\n",
    "# es_store = ElasticsearchStore(\n",
    "#     es_api_key= \"WGk4NklKRUJMVHJPcjBORWUzNU86aDNNVUJxUFBRa0tDVkNrWlgyYWZiZw==\",\n",
    "#     es_cloud_id=\"0d88bad6b77d4efe935c19ac5b44b113:dXMtY2VudHJhbDEuZ2NwLmNsb3VkLmVzLmlvOjQ0MyQ1YzgwMzljY2Q4NDE0Y2I0ODJiOTcyZDg4ODgyZjkzMyRhMTAyMGM0MGY4OTg0YTBiYmNjZjczZmQ0NmI5MmM2NA==\",\n",
    "#     es_connection=es_client\n",
    "# )\n",
    "\n",
    "from langchain_community.document_loaders import TextLoader\n",
    "from langchain_text_splitters import CharacterTextSplitter\n",
    "\n",
    "loader = TextLoader(r\"C:\\Users\\Admin\\Documents\\F_GPT_Demo\\build_database\\state_of_the_union.txt\", encoding='utf-8')\n",
    "documents = loader.load()\n",
    "text_splitter = CharacterTextSplitter(chunk_size=500, chunk_overlap=0)\n",
    "docs = text_splitter.split_documents(documents)\n",
    "\n",
    "db = ElasticsearchStore.from_documents(\n",
    "    docs,\n",
    "    embedding_function,\n",
    "    index_name=\"test-basic\",\n",
    "    es_api_key= \"WGk4NklKRUJMVHJPcjBORWUzNU86aDNNVUJxUFBRa0tDVkNrWlgyYWZiZw==\",\n",
    "    es_cloud_id=\"0d88bad6b77d4efe935c19ac5b44b113:dXMtY2VudHJhbDEuZ2NwLmNsb3VkLmVzLmlvOjQ0MyQ1YzgwMzljY2Q4NDE0Y2I0ODJiOTcyZDg4ODgyZjkzMyRhMTAyMGM0MGY4OTg0YTBiYmNjZjczZmQ0NmI5MmM2NA==\",\n",
    "    es_connection=es_client\n",
    ")\n",
    "\n",
    "db.client.indices.refresh(index=\"test-basic\")\n",
    "\n",
    "query = \"What did the president say about Ketanji Brown Jackson\"\n",
    "results = db.similarity_search(query)\n",
    "print(results)"
   ]
  },
  {
   "cell_type": "code",
   "execution_count": 7,
   "metadata": {},
   "outputs": [
    {
     "name": "stdout",
     "output_type": "stream",
     "text": [
      "{'source': 'C:\\\\Users\\\\Admin\\\\Documents\\\\F_GPT_Demo\\\\build_database\\\\state_of_the_union.txt', 'date': '2016-01-01', 'rating': 2, 'author': 'John Doe'}\n"
     ]
    }
   ],
   "source": [
    "# Adding metadata to documents\n",
    "for i, doc in enumerate(docs):\n",
    "    doc.metadata[\"date\"] = f\"{range(2010, 2020)[i % 10]}-01-01\"\n",
    "    doc.metadata[\"rating\"] = range(1, 6)[i % 5]\n",
    "    doc.metadata[\"author\"] = [\"John Doe\", \"Jane Doe\"][i % 2]\n",
    "\n",
    "db = ElasticsearchStore.from_documents(\n",
    "    docs,\n",
    "    embedding_function,\n",
    "    es_api_key= \"WGk4NklKRUJMVHJPcjBORWUzNU86aDNNVUJxUFBRa0tDVkNrWlgyYWZiZw==\",\n",
    "    es_cloud_id=\"0d88bad6b77d4efe935c19ac5b44b113:dXMtY2VudHJhbDEuZ2NwLmNsb3VkLmVzLmlvOjQ0MyQ1YzgwMzljY2Q4NDE0Y2I0ODJiOTcyZDg4ODgyZjkzMyRhMTAyMGM0MGY4OTg0YTBiYmNjZjczZmQ0NmI5MmM2NA==\",\n",
    "    es_connection=es_client, index_name=\"test-metadata\"\n",
    ")\n",
    "\n",
    "query = \"What did the president say about Ketanji Brown Jackson\"\n",
    "docs = db.similarity_search(query)\n",
    "print(docs[2].metadata)"
   ]
  },
  {
   "cell_type": "code",
   "execution_count": 13,
   "metadata": {},
   "outputs": [
    {
     "name": "stdout",
     "output_type": "stream",
     "text": [
      "{'source': 'C:\\\\Users\\\\Admin\\\\Documents\\\\F_GPT_Demo\\\\build_database\\\\state_of_the_union.txt', 'date': '2015-01-01', 'rating': 1, 'author': 'Jane Doe'}\n"
     ]
    }
   ],
   "source": [
    "query = \"What did the president say about Ketanji Brown Jackson\"\n",
    "docs = db.similarity_search(query)\n",
    "print(docs[2].metadata)"
   ]
  },
  {
   "cell_type": "code",
   "execution_count": 12,
   "metadata": {},
   "outputs": [
    {
     "name": "stdout",
     "output_type": "stream",
     "text": [
      "<class 'list'>\n"
     ]
    }
   ],
   "source": [
    "loader = TextLoader(r\"C:\\Users\\Admin\\Documents\\F_GPT_Demo\\build_database\\state_of_the_union.txt\", encoding='utf-8')\n",
    "documents = loader.load()\n",
    "print(type(documents))"
   ]
  }
 ],
 "metadata": {
  "kernelspec": {
   "display_name": "venv",
   "language": "python",
   "name": "python3"
  },
  "language_info": {
   "codemirror_mode": {
    "name": "ipython",
    "version": 3
   },
   "file_extension": ".py",
   "mimetype": "text/x-python",
   "name": "python",
   "nbconvert_exporter": "python",
   "pygments_lexer": "ipython3",
   "version": "3.10.11"
  }
 },
 "nbformat": 4,
 "nbformat_minor": 2
}
