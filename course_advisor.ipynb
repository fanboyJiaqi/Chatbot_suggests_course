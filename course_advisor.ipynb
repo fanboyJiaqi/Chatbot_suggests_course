{
 "cells": [
  {
   "cell_type": "code",
   "execution_count": 1,
   "metadata": {},
   "outputs": [],
   "source": [
    "from utils import *\n",
    "from dotenv import load_dotenv\n",
    "load_dotenv()\n",
    "from langchain_google_genai import ChatGoogleGenerativeAI\n",
    "from langchain.prompts import PromptTemplate \n",
    "from prompt_about_resume_information import create_skills_prompt\n",
    "import json"
   ]
  },
  {
   "cell_type": "markdown",
   "metadata": {},
   "source": [
    "- UP CV (file pdf)"
   ]
  },
  {
   "cell_type": "code",
   "execution_count": 2,
   "metadata": {},
   "outputs": [],
   "source": [
    "import fitz\n",
    "def extract_text_from_pdf(pdf_path):\n",
    "    document = fitz.open(pdf_path)\n",
    "    text = \"\"\n",
    "    for page_num in range(len(document)):\n",
    "        page = document.load_page(page_num)\n",
    "        text += page.get_text(\"text\")\n",
    "        if page_num > 0 :\n",
    "            text += \"\\n\"\n",
    "    return text"
   ]
  },
  {
   "cell_type": "code",
   "execution_count": 4,
   "metadata": {},
   "outputs": [],
   "source": [
    "def extract_skill_from_pdf(path_pdf):\n",
    "    text = extract_text_from_pdf(path_pdf)\n",
    "    prompt = create_skills_prompt(text=text)\n",
    "    llm = ChatGoogleGenerativeAI(model=\"gemini-1.5-flash\", temperature=1)\n",
    "    answer = llm.invoke(prompt)\n",
    "    return answer"
   ]
  },
  {
   "cell_type": "code",
   "execution_count": 5,
   "metadata": {},
   "outputs": [
    {
     "name": "stderr",
     "output_type": "stream",
     "text": [
      "d:\\LLM for ChatBot\\CourseAdvisor\\env\\lib\\site-packages\\tqdm\\auto.py:21: TqdmWarning: IProgress not found. Please update jupyter and ipywidgets. See https://ipywidgets.readthedocs.io/en/stable/user_install.html\n",
      "  from .autonotebook import tqdm as notebook_tqdm\n"
     ]
    }
   ],
   "source": [
    "answer = extract_skill_from_pdf(\"ResumesPDF/cv (5).pdf\")"
   ]
  },
  {
   "cell_type": "code",
   "execution_count": 6,
   "metadata": {},
   "outputs": [],
   "source": [
    "data_json = json.loads(answer.content)"
   ]
  },
  {
   "cell_type": "code",
   "execution_count": 7,
   "metadata": {},
   "outputs": [
    {
     "name": "stdout",
     "output_type": "stream",
     "text": [
      "Skills:\n",
      "  TechnicalSkills: [{'Skill': 'Software Engineer', 'Level': 'Intermediate'}, {'Skill': 'Data Analyst', 'Level': 'Intermediate'}, {'Skill': 'Machine Learning', 'Level': 'Intermediate'}, {'Skill': 'Text Analytics', 'Level': 'Intermediate'}, {'Skill': 'Software Development', 'Level': 'Intermediate'}, {'Skill': 'Object Oriented Programming', 'Level': 'Intermediate'}, {'Skill': 'Pandas', 'Level': 'Intermediate'}, {'Skill': 'Numpy', 'Level': 'Intermediate'}, {'Skill': 'Java', 'Level': 'Beginner'}, {'Skill': 'Python', 'Level': 'Intermediate'}, {'Skill': 'SpringBoot', 'Level': 'Intermediate'}, {'Skill': 'Laravel', 'Level': 'Beginner'}]\n",
      "  SoftSkills: ['Motivated to learn', 'Grow and excel']\n"
     ]
    }
   ],
   "source": [
    "# Duyệt và in thông tin\n",
    "for key, value in data_json.items():\n",
    "    if isinstance(value, list):\n",
    "        print(f\"{key}:\")\n",
    "        for item in value:\n",
    "            for inner_key, inner_value in item.items():\n",
    "                print(f\"  {inner_key}: {inner_value}\")\n",
    "    elif isinstance(value, dict):\n",
    "        print(f\"{key}:\")\n",
    "        for inner_key, inner_value in value.items():\n",
    "            print(f\"  {inner_key}: {inner_value}\")\n",
    "    else:\n",
    "        print(f\"{key}: {value}\")"
   ]
  },
  {
   "cell_type": "markdown",
   "metadata": {},
   "source": [
    "### Passing a Chroma Client into Langchain\n",
    "- Load Vector Database \n",
    "    - Udemy\n",
    "    - Coursera\n",
    "    - skillshare\n",
    "    - edx"
   ]
  },
  {
   "cell_type": "code",
   "execution_count": 9,
   "metadata": {},
   "outputs": [],
   "source": [
    "db_udemy = create_langchain_chroma(db_path=\"vector_databases/udemy\",collection_name=\"udemy\")\n",
    "# db_coursera = create_langchain_chroma(db_path=\"vector_databases/coursera\",collection_name=\"coursera\")\n",
    "# db_skillshare = create_langchain_chroma(db_path=\"vector_databases/skillshare\",collection_name=\"skillshare\")\n",
    "# db_edx = create_langchain_chroma(db_path=\"vector_databases/edx\",collection_name=\"edx\")"
   ]
  },
  {
   "cell_type": "code",
   "execution_count": 10,
   "metadata": {},
   "outputs": [],
   "source": [
    "def get_relevant_passage(query, db, n_results):\n",
    "    passage = db.similarity_search_with_score(query, k= n_results)\n",
    "    return passage\n",
    "query = \"Machine Learning\"\n",
    "results_udemy = get_relevant_passage(query=query, db=db_udemy, n_results= 3)"
   ]
  },
  {
   "cell_type": "code",
   "execution_count": 12,
   "metadata": {},
   "outputs": [],
   "source": [
    "# for rs in results_udemy:\n",
    "#     print(\"_\"*20)\n",
    "#     print(f'titel : {rs[0].page_content}')\n",
    "#     for key, value in rs[0].metadata.items():\n",
    "#         print(f\"{key} : {value}\")"
   ]
  },
  {
   "cell_type": "markdown",
   "metadata": {},
   "source": [
    "- self Querying"
   ]
  },
  {
   "cell_type": "code",
   "execution_count": null,
   "metadata": {},
   "outputs": [],
   "source": [
    "# 'description' : row['description'],\n",
    "# 'instructor' : row['instructor'],\n",
    "# 'rating' : row['rating'],\n",
    "# 'reviewcount' : row['reviewcount'],\n",
    "# 'duration' : row['duration'],\n",
    "# 'lectures' : row['lectures'],\n",
    "# 'level' : row['level'],"
   ]
  },
  {
   "cell_type": "code",
   "execution_count": 18,
   "metadata": {},
   "outputs": [],
   "source": [
    "from langchain.chains.query_constructor.base import AttributeInfo\n",
    "from langchain.retrievers.self_query.base import SelfQueryRetriever\n",
    "\n",
    "metadata_field_info = [\n",
    "    AttributeInfo(\n",
    "        name=\"description\",\n",
    "        description=\"The description of the course\",\n",
    "        type=\"string\",\n",
    "    ),\n",
    "    AttributeInfo(\n",
    "        name=\"instructor\",\n",
    "        description=\"The name of the instructor\",\n",
    "        type=\"string\",\n",
    "    ),\n",
    "    AttributeInfo(\n",
    "        name=\"rating\",\n",
    "        description=\"The course rating on a scale of 1-5\",\n",
    "        type=\"float\",\n",
    "    ),\n",
    "    AttributeInfo(\n",
    "        name=\"reviewcount\",\n",
    "        description=\"The number of reviews for the course\",\n",
    "        type=\"integer\",\n",
    "    ),\n",
    "    AttributeInfo(\n",
    "        name=\"duration\",\n",
    "        description=\"The duration of the course in hours\",\n",
    "        type=\"string\",\n",
    "    ),\n",
    "    AttributeInfo(\n",
    "        name=\"lectures\",\n",
    "        description=\"The number of lectures in the course\",\n",
    "        type=\"integer\",\n",
    "    ),\n",
    "    AttributeInfo(\n",
    "        name=\"level\",\n",
    "        description=\"The level of the course. One of ['All Level', 'Beginner', 'Intermediate', 'Expert']\",\n",
    "        type=\"string\",\n",
    "    ),\n",
    "]\n",
    "\n",
    "document_content_description = \"Search and retrieve courses based on user-defined criteria.\"\n",
    "\n",
    "llm = ChatGoogleGenerativeAI(model=\"gemini-pro\", temperature=0)\n",
    "retriever = SelfQueryRetriever.from_llm(\n",
    "    llm,\n",
    "    db_udemy,\n",
    "    document_content_description,\n",
    "    metadata_field_info,\n",
    "    enable_limit=True\n",
    ")\n"
   ]
  },
  {
   "cell_type": "code",
   "execution_count": 19,
   "metadata": {},
   "outputs": [],
   "source": [
    "# This example only specifies a filter\n",
    "test_rs = retriever.invoke(\"Search for courses related to Data Analyst at the Intermediate level.\")\n"
   ]
  },
  {
   "cell_type": "code",
   "execution_count": 20,
   "metadata": {},
   "outputs": [
    {
     "data": {
      "text/plain": [
       "[Document(page_content='The Complete Data Analytics Course in Excel', metadata={'description': 'A complete data analysis course using the tools you already have.', 'duration': '15 total hours', 'instructor': 'Michael Parent', 'lectures': '71 lectures', 'level': 'Intermediate', 'rating': 4.5, 'reviewcount': 768}),\n",
       " Document(page_content='Certified Cyber Threat Intelligence Analyst', metadata={'description': 'Learn to intelligently detect and take down cyber threats', 'duration': '9.5 total hours', 'instructor': 'CyberTraining 365', 'lectures': '69 lectures', 'level': 'Intermediate', 'rating': 3.9, 'reviewcount': 861}),\n",
       " Document(page_content='Essential Excel for Business Analysts and Consultants', metadata={'description': 'Master the formulas and tricks that will save you time and make you as efficient as consultants in McKinsey, BCG, Bain', 'duration': '5.5 total hours', 'instructor': 'Asen Gyczew', 'lectures': '108 lectures', 'level': 'Intermediate', 'rating': 4.5, 'reviewcount': 941}),\n",
       " Document(page_content='Data Visualization for Management Consultants & Analysts', metadata={'description': 'A practical guide on how to show results of analyses during consulting projects', 'duration': '4 total hours', 'instructor': 'Asen Gyczew', 'lectures': '88 lectures', 'level': 'Intermediate', 'rating': 4.2, 'reviewcount': 281})]"
      ]
     },
     "execution_count": 20,
     "metadata": {},
     "output_type": "execute_result"
    }
   ],
   "source": [
    "test_rs"
   ]
  },
  {
   "cell_type": "code",
   "execution_count": 43,
   "metadata": {},
   "outputs": [
    {
     "data": {
      "text/plain": [
       "[Document(page_content='Artificial Intelligence: Advanced Machine Learning', metadata={'description': 'Learn all the advanced skills you need to perform various real-world machine learning tasks in different environments.', 'duration': '3.5 total hours', 'instructor': 'Eduero Academy, Inc.', 'lectures': '47 lectures', 'level': 'Intermediate', 'rating': 4.1, 'reviewcount': 37}),\n",
       " Document(page_content='Artificial Intelligence and Machine Learning Made Simple', metadata={'description': 'A non-technical explanation of all the buzzwords around Artificial Intelligence, Machine Learning and Deep Learning.', 'duration': '44 total mins', 'instructor': 'Sertac Ozker', 'lectures': '11 lectures', 'level': 'All Levels', 'rating': 4.3, 'reviewcount': 126}),\n",
       " Document(page_content='Artificial Intelligence and Predictive Analysis', metadata={'description': 'This course is a comprehensive understanding of AI concepts and its application using Python and iPython.', 'duration': '6.5 total hours', 'instructor': 'EDUCBA Bridging the Gap', 'lectures': '59 lectures', 'level': 'All Levels', 'rating': 4.3, 'reviewcount': 183}),\n",
       " Document(page_content='The Complete Artificial Intelligence (AI) for Professionals', metadata={'description': 'Learn 100+ AI tools and use them to Master Business, Ethics, & Innovation! All Rooted in 100% Real-World Scenarios!', 'duration': '3 total hours', 'instructor': 'Debayan Dey', 'lectures': '89 lectures', 'level': 'All Levels', 'rating': 4.7, 'reviewcount': 60})]"
      ]
     },
     "execution_count": 43,
     "metadata": {},
     "output_type": "execute_result"
    }
   ],
   "source": [
    "retriever.invoke(\"I want to find artificial intelligence courses rated higher than 4.0\")"
   ]
  },
  {
   "cell_type": "code",
   "execution_count": 44,
   "metadata": {},
   "outputs": [
    {
     "data": {
      "text/plain": [
       "[Document(page_content='Artificial Intelligence and Machine Learning Made Simple', metadata={'description': 'A non-technical explanation of all the buzzwords around Artificial Intelligence, Machine Learning and Deep Learning.', 'duration': '44 total mins', 'instructor': 'Sertac Ozker', 'lectures': '11 lectures', 'level': 'All Levels', 'rating': 4.3, 'reviewcount': 126}),\n",
       " Document(page_content='Artificial Intelligence and Predictive Analysis', metadata={'description': 'This course is a comprehensive understanding of AI concepts and its application using Python and iPython.', 'duration': '6.5 total hours', 'instructor': 'EDUCBA Bridging the Gap', 'lectures': '59 lectures', 'level': 'All Levels', 'rating': 4.3, 'reviewcount': 183}),\n",
       " Document(page_content='How to use Artificial Intelligence - A guide for everyone!', metadata={'description': 'Benefit today from the technology of tomorrow : Start using Artificial Intelligence to boost your productivity!', 'duration': '1.5 total hours', 'instructor': 'Ahmed Fessi', 'lectures': '22 lectures', 'level': 'Beginner', 'rating': 4.4, 'reviewcount': 1654}),\n",
       " Document(page_content='Artificial Intelligence with Machine Learning, Deep Learning', metadata={'description': 'Artificial Intelligence (AI) with Python Machine Learning and Python Deep Learning, Transfer Learning, Tensorflow', 'duration': '23 total hours', 'instructor': 'Oak Academy, OAK Academy Team', 'lectures': '171 lectures', 'level': 'All Levels', 'rating': 4.5, 'reviewcount': 289})]"
      ]
     },
     "execution_count": 44,
     "metadata": {},
     "output_type": "execute_result"
    }
   ],
   "source": [
    "retriever.invoke(\"I want to find a course on artificial intelligence that has more than 100 views.\")"
   ]
  },
  {
   "cell_type": "code",
   "execution_count": 46,
   "metadata": {},
   "outputs": [
    {
     "data": {
      "text/plain": [
       "[Document(page_content='Accelerated JavaScript Training', metadata={'description': 'Take a deep dive into JavaScript, a Must-Know Language in Web Development, with a Hands-on, Example-driven Approach', 'duration': '7.5 total hours', 'instructor': 'Maximilian Schwarzmüller', 'lectures': '128 lectures', 'level': 'All Levels', 'rating': 4.6, 'reviewcount': 6365}),\n",
       " Document(page_content='Accelerated ES6 JavaScript Training', metadata={'description': 'Learn and Use the Future of JavaScript - Today!', 'duration': '6 total hours', 'instructor': 'Maximilian Schwarzmüller', 'lectures': '115 lectures', 'level': 'Intermediate', 'rating': 4.6, 'reviewcount': 5680}),\n",
       " Document(page_content='Angular - The Complete Guide (2023 Edition)', metadata={'description': 'Master Angular (formerly \"Angular 2\") and build awesome, reactive web apps with the successor of Angular.js', 'duration': '36.5 total hours', 'instructor': 'Maximilian Schwarzmüller', 'lectures': '503 lectures', 'level': 'All Levels', 'rating': 4.6, 'reviewcount': 193878}),\n",
       " Document(page_content='Vue - The Complete Guide (incl. Router & Composition API)', metadata={'description': 'Vue.js is an awesome JavaScript Framework for building Frontend Applications! VueJS mixes the Best of Angular + React!', 'duration': '32 total hours', 'instructor': 'Maximilian Schwarzmüller', 'lectures': '330 lectures', 'level': 'All Levels', 'rating': 4.7, 'reviewcount': 61298})]"
      ]
     },
     "execution_count": 46,
     "metadata": {},
     "output_type": "execute_result"
    }
   ],
   "source": [
    "retriever.invoke(\"I want to find a course with Maximilian Schwarzmüller as the instructor.\")"
   ]
  },
  {
   "cell_type": "markdown",
   "metadata": {},
   "source": [
    "- Create prompts"
   ]
  },
  {
   "cell_type": "code",
   "execution_count": 47,
   "metadata": {},
   "outputs": [],
   "source": [
    "def course_search_prompt(question):\n",
    "    prompt = PromptTemplate(\n",
    "        input_variables=[\"question\"],\n",
    "        template=\"\"\"\n",
    "            Please search for online courses on relevant websites related to the following content:\n",
    "            Content: {question}\n",
    "            The answer should be returned as a JSON object in the following format:\n",
    "            {{\n",
    "                \"title\": \"string\",\n",
    "                \"description\": \"string\",\n",
    "                \"link\": \"string\"\n",
    "            }}\n",
    "            The returned result should be in JSON format without anything added.\n",
    "            \"\"\"\n",
    "    )\n",
    "    return prompt.format(question=question)\n"
   ]
  },
  {
   "cell_type": "code",
   "execution_count": 5,
   "metadata": {},
   "outputs": [],
   "source": [
    "# print(course_search_prompt(\"English courses for working people\"))"
   ]
  },
  {
   "cell_type": "code",
   "execution_count": 30,
   "metadata": {},
   "outputs": [],
   "source": [
    "def detailed_course_prompt(question):\n",
    "    prompt = PromptTemplate(\n",
    "        input_variables=[\"question\"],\n",
    "        template=\"\"\"\n",
    "        Please find the course with the following title: {question}\n",
    "        The answer should be returned as a JSON object in the following format:\n",
    "        {{\n",
    "            \"title\": \"String\",\n",
    "            \"Course_Content\": \"String\",\n",
    "            \"Instructor\": \"String\",\n",
    "            \"level\": \"String\",\n",
    "            \"Rating\": \"String\",\n",
    "            \"Duration\": \"String\",\n",
    "            \"cost\": \"String\",\n",
    "            \"Certificate\": \"String\" (if applicable),\n",
    "            \"Prerequisites\": \"String\" (if applicable),\n",
    "            \"link\": \"String\"\n",
    "        }}\n",
    "        The returned result should be in JSON format without anything added.\n",
    "        \"\"\"\n",
    "    )\n",
    "    return prompt.format(question=question)\n",
    "\n",
    "# Ví dụ sử dụng\n",
    "question = \"The Complete Web Developer Course 3.0\"\n",
    "result = detailed_course_prompt(question)\n"
   ]
  },
  {
   "cell_type": "code",
   "execution_count": 1,
   "metadata": {},
   "outputs": [],
   "source": [
    "def generate_answer_prompt(prompt):\n",
    "    llm = ChatGoogleGenerativeAI(model=\"gemini-pro\", temperature=1)\n",
    "    answer = llm.invoke(prompt)\n",
    "    return answer"
   ]
  },
  {
   "cell_type": "code",
   "execution_count": 32,
   "metadata": {},
   "outputs": [],
   "source": [
    "rs = generate_answer_prompt(result)"
   ]
  },
  {
   "cell_type": "code",
   "execution_count": 33,
   "metadata": {},
   "outputs": [
    {
     "name": "stdout",
     "output_type": "stream",
     "text": [
      "{\n",
      "\"title\": \"The Complete Web Developer Course 3.0\",\n",
      "\"Course_Content\": \"HTML, CSS, JavaScript, React, Node.js, MongoDB, Python, Django, Flask\",\n",
      "\"Instructor\": \"Rob Percival, Colt Steele\",\n",
      "\"level\": \"Beginner to Advanced\",\n",
      "\"Rating\": \"4.7/5\",\n",
      "\"Duration\": \"Over 60 hours of video content, 110+ downloadable resources, and 43 coding exercises\",\n",
      "\"cost\": \"$199\",\n",
      "\"Certificate\": \"Yes\",\n",
      "\"Prerequisites\": \"No prior programming experience is required\",\n",
      "\"link\": \"https://www.udemy.com/course/the-complete-web-developer-course-2/\"\n",
      "}\n"
     ]
    }
   ],
   "source": [
    "print(rs.content)"
   ]
  },
  {
   "cell_type": "code",
   "execution_count": 3,
   "metadata": {},
   "outputs": [
    {
     "name": "stderr",
     "output_type": "stream",
     "text": [
      "d:\\LLM for ChatBot\\CourseAdvisor\\env\\lib\\site-packages\\tqdm\\auto.py:21: TqdmWarning: IProgress not found. Please update jupyter and ipywidgets. See https://ipywidgets.readthedocs.io/en/stable/user_install.html\n",
      "  from .autonotebook import tqdm as notebook_tqdm\n"
     ]
    }
   ],
   "source": [
    "rs = generate_answer_prompt(\"đọc trang web này xem https://www.edx.org/learn/excel/ibm-analyzing-data-with-excel hãy liệt kê nội dung trong trang web\")"
   ]
  },
  {
   "cell_type": "code",
   "execution_count": 4,
   "metadata": {},
   "outputs": [
    {
     "name": "stdout",
     "output_type": "stream",
     "text": [
      "**Trình độ: Tất cả trình độ**\n",
      "\n",
      "**Đại học: IBM**\n",
      "\n",
      "**Chủ đề:** Khoa học dữ liệu\n",
      "\n",
      "**Mô tả:**\n",
      "\n",
      "Khóa học trực tuyến Analyzing Data with Excel do IBM cung cấp trên nền tảng edX này sẽ giúp bạn học cách phân tích dữ liệu trong Microsoft Excel, một phần mềm bảng tính phổ biến.\n",
      "\n",
      "**Nội dung:**\n",
      "\n",
      "* **Module 1: Giới thiệu về phân tích dữ liệu trong Excel**\n",
      "    * Hiểu vai trò của Excel trong phân tích dữ liệu\n",
      "    * Nhập và chuẩn bị dữ liệu trong Excel\n",
      "\n",
      "* **Module 2: Phân tích dữ liệu định lượng**\n",
      "    * Thống kê tóm tắt\n",
      "    * Biểu đồ phân phối tần suất và các biện pháp tản mác\n",
      "    * Kiểm tra giả thuyết cho dữ liệu định lượng\n",
      "\n",
      "* **Module 3: Phân tích dữ liệu định tính**\n",
      "    * Table động và biểu đồ\n",
      "    * Các công cụ tóm tắt dữ liệu và thao tác văn bản\n",
      "    * Phân tích nội dung và phân loại\n",
      "\n",
      "* **Module 4: Trực quan hóa dữ liệu**\n",
      "    * Tạo các loại biểu đồ khác nhau\n",
      "    * Hiểu các khái niệm về thiết kế biểu đồ\n",
      "    * Kể câu chuyện bằng hình ảnh\n",
      "\n",
      "* **Module 5: Làm việc với dữ liệu lớn trong Excel**\n",
      "    * Sử dụng tính năng Power Query để nhập và chuyển đổi dữ liệu\n",
      "    * Sử dụng Power Pivot để tạo mô hình dữ liệu\n",
      "    * Biểu đồ và phân tích dữ liệu Power BI\n",
      "\n",
      "* **Bài kiểm tra cuối khóa:**\n",
      "    * Bài kiểm tra tương tác để đánh giá sự hiểu biết của bạn về các khái niệm phân tích dữ liệu trong Excel\n",
      "\n",
      "**Điểm nổi bật:**\n",
      "\n",
      "* Học cách giải quyết các vấn đề kinh doanh thực tế thông qua phân tích dữ liệu\n",
      "* Trải nghiệm trực tiếp bằng các bài tập thực hành và bài tập\n",
      "* Nhận chứng chỉ sau khi hoàn thành thành công khóa học\n",
      "* Truy cập vào diễn đàn thảo luận và tài liệu khóa học trực tuyến\n"
     ]
    }
   ],
   "source": [
    "print(rs.content)"
   ]
  },
  {
   "cell_type": "code",
   "execution_count": null,
   "metadata": {},
   "outputs": [],
   "source": []
  }
 ],
 "metadata": {
  "kernelspec": {
   "display_name": "Python 3 (ipykernel)",
   "language": "python",
   "name": "python3"
  },
  "language_info": {
   "codemirror_mode": {
    "name": "ipython",
    "version": 3
   },
   "file_extension": ".py",
   "mimetype": "text/x-python",
   "name": "python",
   "nbconvert_exporter": "python",
   "pygments_lexer": "ipython3",
   "version": "3.10.11"
  }
 },
 "nbformat": 4,
 "nbformat_minor": 4
}
